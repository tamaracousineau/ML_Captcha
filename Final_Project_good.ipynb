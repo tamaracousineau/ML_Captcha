{
  "cells": [
    {
      "cell_type": "code",
      "execution_count": null,
      "metadata": {
        "id": "w2-MHgSs14Mt"
      },
      "outputs": [],
      "source": [
        "# ! pip install opendatasets"
      ]
    },
    {
      "cell_type": "code",
      "execution_count": null,
      "metadata": {
        "id": "9pJ0HHhdgmuY",
        "pycharm": {
          "is_executing": true
        }
      },
      "outputs": [],
      "source": [
        "import numpy as np\n",
        "from keras.datasets import cifar100\n",
        "from keras.constraints import maxnorm\n",
        "from tensorflow.keras.layers import Dense, Dropout, Flatten, Conv2D, MaxPool2D, BatchNormalization\n",
        "from keras.layers.convolutional import Conv2D, MaxPooling2D\n",
        "from keras.models import Sequential\n",
        "from keras.utils import np_utils\n",
        "\n",
        "import matplotlib\n",
        "import matplotlib.pyplot as plt\n",
        "\n",
        "(X_train, y_train), (X_test, y_test) = cifar100.load_data(label_mode=\"fine\")"
      ]
    },
    {
      "cell_type": "code",
      "execution_count": null,
      "metadata": {
        "id": "-MATFQlQxAzP",
        "pycharm": {
          "is_executing": true
        }
      },
      "outputs": [],
      "source": [
        "# simple model to try a basic implementation\n",
        "simple_layers = [\n",
        "      Flatten(),\n",
        "      Dense(25, activation=\"relu\"),\n",
        "      Dense(35, activation=\"relu\"),\n",
        "      Dense(45, activation=\"relu\"),\n",
        "      Dense(50, activation=\"relu\"),\n",
        "      Dropout(0.05),\n",
        "      Dense(50, activation=\"relu\"),\n",
        "      Dense(50, activation=\"relu\"),\n",
        "      Dense(45, activation=\"relu\"),\n",
        "      Dense(35, activation=\"relu\"),\n",
        "      Dense(25, activation=\"relu\"),\n",
        "      Dense(100, activation=\"softmax\")\n",
        "    ]\n",
        "\n",
        "simple_model = Sequential(layers=simple_layers)\n",
        "\n",
        "simple_model.compile(optimizer=\"adam\", loss='sparse_categorical_crossentropy', metrics=['accuracy'])\n",
        "simple_model.fit(X_train, y_train, epochs=5)\n",
        "print(simple_model.summary())\n",
        "\n",
        "simple_scores = simple_model.evaluate(X_test, y_test)\n",
        "print(\"Accuracy:\", simple_scores[0])"
      ]
    },
    {
      "cell_type": "code",
      "execution_count": null,
      "metadata": {
        "id": "pDEI4c0YV8KB",
        "pycharm": {
          "is_executing": true
        }
      },
      "outputs": [],
      "source": [
        "from google.colab import drive\n",
        "drive.mount('/content/drive')"
      ]
    },
    {
      "cell_type": "code",
      "execution_count": null,
      "metadata": {
        "colab": {
          "base_uri": "https://localhost:8080/",
          "height": 1000
        },
        "id": "NPOp_aJe20Fk",
        "outputId": "50939484-9fed-42d8-b980-208e1ff2bdc3",
        "pycharm": {
          "is_executing": true
        }
      },
      "outputs": [
        {
          "ename": "NameError",
          "evalue": "name 'cifar100' is not defined",
          "output_type": "error",
          "traceback": [
            "\u001b[1;31m---------------------------------------------------------------------------\u001b[0m",
            "\u001b[1;31mNameError\u001b[0m                                 Traceback (most recent call last)",
            "\u001b[1;32m~\\AppData\\Local\\Temp/ipykernel_5668/3282958063.py\u001b[0m in \u001b[0;36m<module>\u001b[1;34m\u001b[0m\n\u001b[0;32m     17\u001b[0m \u001b[1;33m\u001b[0m\u001b[0m\n\u001b[0;32m     18\u001b[0m \u001b[1;31m# Load CIFAR-100 data\u001b[0m\u001b[1;33m\u001b[0m\u001b[1;33m\u001b[0m\u001b[1;33m\u001b[0m\u001b[0m\n\u001b[1;32m---> 19\u001b[1;33m \u001b[1;33m(\u001b[0m\u001b[0minput_train\u001b[0m\u001b[1;33m,\u001b[0m \u001b[0mtarget_train\u001b[0m\u001b[1;33m)\u001b[0m\u001b[1;33m,\u001b[0m \u001b[1;33m(\u001b[0m\u001b[0minput_test\u001b[0m\u001b[1;33m,\u001b[0m \u001b[0mtarget_test\u001b[0m\u001b[1;33m)\u001b[0m \u001b[1;33m=\u001b[0m \u001b[0mcifar100\u001b[0m\u001b[1;33m.\u001b[0m\u001b[0mload_data\u001b[0m\u001b[1;33m(\u001b[0m\u001b[1;33m)\u001b[0m\u001b[1;33m\u001b[0m\u001b[1;33m\u001b[0m\u001b[0m\n\u001b[0m\u001b[0;32m     20\u001b[0m \u001b[1;33m\u001b[0m\u001b[0m\n\u001b[0;32m     21\u001b[0m \u001b[0mprint\u001b[0m\u001b[1;33m(\u001b[0m\u001b[1;34m\"target test:\"\u001b[0m\u001b[1;33m,\u001b[0m \u001b[0mtarget_test\u001b[0m\u001b[1;33m)\u001b[0m\u001b[1;33m\u001b[0m\u001b[1;33m\u001b[0m\u001b[0m\n",
            "\u001b[1;31mNameError\u001b[0m: name 'cifar100' is not defined"
          ]
        }
      ],
      "source": [
        "from tensorflow.keras.datasets import cifar10\n",
        "from tensorflow.keras.models import Sequential\n",
        "from tensorflow.keras.layers import Dense, Flatten, Conv2D, MaxPooling2D\n",
        "from tensorflow.keras.losses import sparse_categorical_crossentropy\n",
        "from tensorflow.keras.optimizers import Adam\n",
        "import matplotlib.pyplot as plt\n",
        "\n",
        "# Model configuration\n",
        "batch_size = 50\n",
        "img_width, img_height, img_num_channels = 32, 32, 3\n",
        "loss_function = sparse_categorical_crossentropy\n",
        "no_classes = 100\n",
        "no_epochs = 100\n",
        "optimizer = Adam()\n",
        "validation_split = 0.2\n",
        "verbosity = 1\n",
        "\n",
        "# Load CIFAR-100 data\n",
        "(input_train, target_train), (input_test, target_test) = cifar100.load_data()\n",
        "\n",
        "print(\"target test:\", target_test)\n",
        "print(\"target train:\", target_train)\n",
        "print(\"input test:\", input_test)\n",
        "print(\"input train:\", input_train)\n",
        "\n",
        "\n",
        "# Determine shape of the data\n",
        "input_shape = (img_width, img_height, img_num_channels)\n",
        "\n",
        "# Parse numbers as floats\n",
        "input_train = input_train.astype('float32')\n",
        "input_test = input_test.astype('float32')\n",
        "\n",
        "# Normalize data\n",
        "input_train = input_train / 255\n",
        "input_test = input_test / 255\n",
        "\n",
        "# Create the model\n",
        "model = Sequential()\n",
        "model.add(Conv2D(32, kernel_size=(3, 3), activation='relu', input_shape=input_shape))\n",
        "model.add(MaxPooling2D(pool_size=(2, 2)))\n",
        "model.add(Conv2D(64, kernel_size=(3, 3), activation='relu'))\n",
        "model.add(MaxPooling2D(pool_size=(2, 2)))\n",
        "model.add(Conv2D(128, kernel_size=(3, 3), activation='relu'))\n",
        "model.add(MaxPooling2D(pool_size=(2, 2)))\n",
        "model.add(Flatten())\n",
        "model.add(Dense(512, activation='relu'))\n",
        "model.add(Dense(512, activation='relu'))\n",
        "model.add(Dense(256, activation='relu'))\n",
        "model.add(Dense(128, activation='relu'))\n",
        "model.add(Dense(no_classes, activation='softmax'))\n",
        "\n",
        "# Compile the model\n",
        "model.compile(loss=loss_function,\n",
        "              optimizer=optimizer,\n",
        "              metrics=['accuracy'])\n",
        "\n",
        "# Fit data to model\n",
        "history = model.fit(input_train, target_train,\n",
        "            batch_size=batch_size,\n",
        "            epochs=no_epochs,\n",
        "            verbose=verbosity,\n",
        "            validation_split=validation_split)\n",
        "\n",
        "# Generate generalization metrics\n",
        "score = model.evaluate(input_test, target_test, verbose=0)\n",
        "print(f'Test loss: {score[0]} / Test accuracy: {score[1]}')\n",
        "\n",
        "# Visualize history\n",
        "# Plot history: Loss\n",
        "plt.plot(history.history['val_loss'])\n",
        "plt.title('Validation loss history')\n",
        "plt.ylabel('Loss value')\n",
        "plt.xlabel('No. epoch')\n",
        "plt.show()\n",
        "\n",
        "# Plot history: Accuracy\n",
        "plt.plot(history.history['val_accuracy'])\n",
        "plt.title('Validation accuracy history')\n",
        "plt.ylabel('Accuracy value (%)')\n",
        "plt.xlabel('No. epoch')\n",
        "plt.show()"
      ]
    },
    {
      "cell_type": "code",
      "execution_count": null,
      "metadata": {
        "pycharm": {
          "is_executing": true
        },
        "id": "6nCIiL5HhxB7"
      },
      "outputs": [],
      "source": [
        "! pip install pandas\n",
        "! pip install opencv-python"
      ]
    },
    {
      "cell_type": "code",
      "execution_count": null,
      "metadata": {
        "id": "sMg-9Z1jdxaz",
        "pycharm": {
          "is_executing": true
        },
        "outputId": "0ed56ae3-8ba0-48c4-94fe-86388f9a45dc"
      },
      "outputs": [
        {
          "name": "stdout",
          "output_type": "stream",
          "text": [
            "1/9\n",
            "2/9\n",
            "3/9\n",
            "4/9\n",
            "5/9\n",
            "6/9\n",
            "7/9\n",
            "8/9\n",
            "9/9\n",
            "                                                 img          label\n",
            "0  [[[147, 160, 151], [150, 160, 155], [153, 160,...  Traffic Light\n",
            "0  [[[171, 180, 169], [171, 180, 170], [171, 180,...  Traffic Light\n",
            "0  [[[180, 192, 202], [180, 192, 201], [180, 191,...  Traffic Light\n",
            "0  [[[195, 193, 192], [198, 195, 195], [201, 196,...  Traffic Light\n",
            "0  [[[158, 166, 158], [151, 161, 151], [154, 162,...  Traffic Light\n"
          ]
        }
      ],
      "source": [
        "from os import listdir\n",
        "import pandas as pd\n",
        "import cv2\n",
        "\n",
        "# Load 200 images from each CAPTCHA folder (skip mountain, chimney, motorcycle folders)\n",
        "num_images = 200\n",
        "df = pd.DataFrame()\n",
        "\n",
        "# BICYCLE\n",
        "filepath = \"Large/Bicycle/\"\n",
        "files = listdir(filepath)\n",
        "i = 0\n",
        "for file in files:\n",
        "  x = cv2.imread(filepath + file)\n",
        "  y = \"Bicycle\"\n",
        "  df_temp = pd.DataFrame([(x, y)], columns=[\"img\", \"label\"])\n",
        "  df = df.append(df_temp)\n",
        "  if i == num_images: break\n",
        "  i += 1\n",
        "\n",
        "print(\"1/9\")\n",
        "\n",
        "# BRIDGE\n",
        "filepath = \"Large/Bridge/\"\n",
        "files = listdir(filepath)\n",
        "i = 0\n",
        "for file in files:\n",
        "  x = cv2.imread(filepath + file)\n",
        "  y = \"Bridge\"\n",
        "  df_temp = pd.DataFrame([(x, y)], columns=[\"img\", \"label\"])\n",
        "  df = df.append(df_temp)\n",
        "  if i == num_images: break\n",
        "  i += 1\n",
        "\n",
        "print(\"2/9\")\n",
        "\n",
        "# BUS\n",
        "filepath = \"Large/Bus/\"\n",
        "files = listdir(filepath)\n",
        "i = 0\n",
        "for file in files:\n",
        "  x = cv2.imread(filepath + file)\n",
        "  y = \"Bus\"\n",
        "  df_temp = pd.DataFrame([(x, y)], columns=[\"img\", \"label\"])\n",
        "  df = df.append(df_temp)\n",
        "  if i == num_images: break\n",
        "  i += 1\n",
        "\n",
        "print(\"3/9\")\n",
        "\n",
        "# CAR\n",
        "filepath = \"Large/Car/\"\n",
        "files = listdir(filepath)\n",
        "i = 0\n",
        "for file in files:\n",
        "  x = cv2.imread(filepath + file)\n",
        "  y = \"Car\"\n",
        "  df_temp = pd.DataFrame([(x, y)], columns=[\"img\", \"label\"])\n",
        "  df = df.append(df_temp)\n",
        "  if i == num_images: break\n",
        "  i += 1\n",
        "\n",
        "print(\"4/9\")\n",
        "\n",
        "# CROSSWALK\n",
        "filepath = \"Large/Crosswalk/\"\n",
        "files = listdir(filepath)\n",
        "i = 0\n",
        "for file in files:\n",
        "  x = cv2.imread(filepath + file)\n",
        "  y = \"Crosswalk\"\n",
        "  df_temp = pd.DataFrame([(x, y)], columns=[\"img\", \"label\"])\n",
        "  df = df.append(df_temp)\n",
        "  if i == num_images: break\n",
        "  i += 1\n",
        "\n",
        "print(\"5/9\")\n",
        "\n",
        "# HYDRANT\n",
        "filepath = \"Large/Hydrant/\"\n",
        "files = listdir(filepath)\n",
        "i = 0\n",
        "for file in files:\n",
        "  x = cv2.imread(filepath + file)\n",
        "  y = \"Hydrant\"\n",
        "  df_temp = pd.DataFrame([(x, y)], columns=[\"img\", \"label\"])\n",
        "  df = df.append(df_temp)\n",
        "  if i == num_images: break\n",
        "  i += 1\n",
        "\n",
        "print(\"6/9\")\n",
        "\n",
        "# OTHER\n",
        "filepath = \"Large/Other/\"\n",
        "files = listdir(filepath)\n",
        "i = 0\n",
        "for file in files:\n",
        "  x = cv2.imread(filepath + file)\n",
        "  y = \"Other\"\n",
        "  df_temp = pd.DataFrame([(x, y)], columns=[\"img\", \"label\"])\n",
        "  df = df.append(df_temp)\n",
        "  if i == num_images: break\n",
        "  i += 1\n",
        "\n",
        "print(\"7/9\")\n",
        "\n",
        "# PALM\n",
        "filepath = \"Large/Palm/\"\n",
        "files = listdir(filepath)\n",
        "i = 0\n",
        "for file in files:\n",
        "  x = cv2.imread(filepath + file)\n",
        "  y = \"Palm\"\n",
        "  df_temp = pd.DataFrame([(x, y)], columns=[\"img\", \"label\"])\n",
        "  df = df.append(df_temp)\n",
        "  if i == num_images: break\n",
        "  i += 1\n",
        "\n",
        "print(\"8/9\")\n",
        "\n",
        "# TRAFFIC LIGHT\n",
        "filepath = \"Large/Traffic Light/\"\n",
        "files = listdir(filepath)\n",
        "i = 0\n",
        "for file in files:\n",
        "  x = cv2.imread(filepath + file)\n",
        "  y = \"Traffic Light\"\n",
        "  df_temp = pd.DataFrame([(x, y)], columns=[\"img\", \"label\"])\n",
        "  df = df.append(df_temp)\n",
        "  if i == num_images: break\n",
        "  i += 1\n",
        "\n",
        "print(\"9/9\")\n",
        "\n",
        "print(df.tail())"
      ]
    },
    {
      "cell_type": "code",
      "execution_count": null,
      "metadata": {
        "pycharm": {
          "is_executing": true
        },
        "id": "xy0AMpKOhxB9"
      },
      "outputs": [],
      "source": [
        "! pip install tensorflow\n",
        "! pip install matplotlib"
      ]
    },
    {
      "cell_type": "code",
      "execution_count": null,
      "metadata": {
        "pycharm": {
          "is_executing": true
        },
        "id": "nkFPK5-phxB-"
      },
      "outputs": [],
      "source": [
        "! pip install scikit-learn"
      ]
    },
    {
      "cell_type": "code",
      "execution_count": null,
      "metadata": {
        "colab": {
          "base_uri": "https://localhost:8080/"
        },
        "id": "wsyyBcM_WOKQ",
        "outputId": "abcfc4f8-f1f8-48cf-94a4-eccfcaa28b95",
        "pycharm": {
          "is_executing": true
        }
      },
      "outputs": [
        {
          "name": "stdout",
          "output_type": "stream",
          "text": [
            "loading first\n",
            "done with first\n",
            "loading second\n",
            "done with second\n",
            "converting numbers to model format...\n"
          ]
        }
      ],
      "source": [
        "# Repeat model for our CAPTCHA dataset\n",
        "from tensorflow.keras.datasets import cifar10\n",
        "from tensorflow.keras.models import Sequential\n",
        "from tensorflow.keras.layers import Dense, Flatten, Conv2D, MaxPooling2D\n",
        "from tensorflow.keras.losses import sparse_categorical_crossentropy\n",
        "from tensorflow.keras.optimizers import Adam\n",
        "import sklearn as sk\n",
        "import tensorflow as tf\n",
        "from sklearn.model_selection import train_test_split\n",
        "import matplotlib.pyplot as plt\n",
        "import numpy as np\n",
        "\n",
        "\n",
        "# read CAPTCHA dataset\n",
        "seed = 0\n",
        "train, test = train_test_split(df, test_size=.2, random_state=seed, shuffle=True)\n",
        "input_train = train[\"img\"].to_numpy().tolist()\n",
        "target_train = train[\"label\"].to_numpy()\n",
        "input_test = test[\"img\"].to_numpy().tolist()\n",
        "target_test = test[\"label\"].to_numpy()\n",
        "\n",
        "\n",
        "# Determine shape of the data\n",
        "input_shape = (img_width, img_height, img_num_channels)\n",
        "\n",
        "\n",
        "\n",
        "# input_train = np.array(input_train)\n",
        "# input_test = np.array(input_test)\n",
        "\n",
        "#print(type(input_train))\n",
        "#print(input_train)\n",
        "\n",
        "\n",
        "# convert labels to numpy arrays of numbers\n",
        "mapping = {\n",
        "    \"Bicycle\": 0,\n",
        "    \"Bridge\": 1,\n",
        "    \"Bus\": 2,\n",
        "    \"Car\": 3,\n",
        "    \"Crosswalk\": 4,\n",
        "    \"Hydrant\": 5,\n",
        "    \"Other\": 6,\n",
        "    \"Palm\": 7,\n",
        "    \"Traffic Light\": 8\n",
        "}\n",
        "\n",
        "target_train_temp = []\n",
        "for label in target_train:\n",
        "    target_train_temp.append(np.array([mapping[label]]))\n",
        "target_train = np.array(target_train_temp)\n",
        "\n",
        "target_test_temp = []\n",
        "for label in target_test:\n",
        "    target_test_temp.append(np.array([mapping[label]]))\n",
        "target_test = np.array(target_test_temp)\n",
        "\n",
        "print(\"loading first\")\n",
        "\n",
        "# convert np arrays to list\n",
        "input_train_temp = []\n",
        "for element in input_train:\n",
        "    input_train_temp.append(element.tolist())\n",
        "input_train = input_train_temp\n",
        "\n",
        "print(\"done with first\")\n",
        "# print(\"input train:\", input_train[:5])\n",
        "print(\"loading second\")\n",
        "\n",
        "input_test_temp = []\n",
        "for element in input_test:\n",
        "    input_test_temp.append(element.tolist())\n",
        "input_test = input_test_temp\n",
        "\n",
        "print(\"done with second\")\n",
        "print(\"converting numbers to model format...\")\n",
        "\n",
        "# Parse numbers as floats\n",
        "input_train_temp = []\n",
        "target_train_temp = []\n",
        "for i in range(0, len(input_train)):\n",
        "    if(len(input_train[i]) == 120): \n",
        "        input_train_temp.append(input_train[i])\n",
        "        target_train_temp.append(target_train[i][0])\n",
        "input_train = input_train_temp\n",
        "target_train = target_train_temp\n",
        "\n",
        "input_test_temp = []\n",
        "target_test_temp = []\n",
        "for i in range(0, len(input_test)):\n",
        "    if(len(input_test[i]) == 120):\n",
        "        input_test_temp.append(input_test[i])\n",
        "        target_test_temp.append(target_test[i])\n",
        "input_test = input_test_temp\n",
        "target_test = target_test_temp\n",
        "\n",
        "\n",
        "# # Normalize data\n",
        "# print(\"normalizing input train\")\n",
        "# for i in input_train:\n",
        "#     i = i / 255\n",
        "    \n",
        "# print(\"normalizing input test\")\n",
        "# for j in input_test:\n",
        "#     j = j / 255\n",
        "\n",
        "# convert to np array\n",
        "input_train = np.array(input_train).astype(np.float32)\n",
        "input_test = np.array(input_test).astype(np.float32)\n",
        "target_train = np.array(target_train).astype(np.float32)\n",
        "target_test = np.array(target_test).astype(np.float32)\n",
        "\n",
        "# convert to tensor\n",
        "input_train = tf.convert_to_tensor(input_train)\n",
        "input_test = tf.convert_to_tensor(input_test)"
      ]
    },
    {
      "cell_type": "code",
      "execution_count": null,
      "metadata": {
        "id": "3_8djqN6hxCA",
        "outputId": "416e2e99-bc9c-4243-fa5e-85d14425c3c1"
      },
      "outputs": [
        {
          "name": "stdout",
          "output_type": "stream",
          "text": [
            "(1183, 120, 120, 3)\n",
            "(290, 120, 120, 3)\n"
          ]
        }
      ],
      "source": [
        "print(input_train.shape)\n",
        "print(input_test.shape)"
      ]
    },
    {
      "cell_type": "code",
      "execution_count": null,
      "metadata": {
        "scrolled": true,
        "id": "0xqlRogwhxCA",
        "outputId": "759ec361-a412-4d95-da5f-42f05c510d26"
      },
      "outputs": [
        {
          "name": "stdout",
          "output_type": "stream",
          "text": [
            "creating model...\n",
            "compiling model...\n",
            "fitting model...\n",
            "Epoch 1/25\n",
            "19/19 [==============================] - 7s 377ms/step - loss: 13.7666 - accuracy: 0.0973 - val_loss: 2.5690 - val_accuracy: 0.1013\n",
            "Epoch 2/25\n",
            "19/19 [==============================] - 7s 368ms/step - loss: 2.2202 - accuracy: 0.1934 - val_loss: 2.1660 - val_accuracy: 0.1561\n",
            "Epoch 3/25\n",
            "19/19 [==============================] - 7s 365ms/step - loss: 1.9288 - accuracy: 0.2780 - val_loss: 2.1293 - val_accuracy: 0.2278\n",
            "Epoch 4/25\n",
            "19/19 [==============================] - 7s 370ms/step - loss: 1.6975 - accuracy: 0.4101 - val_loss: 2.0066 - val_accuracy: 0.3755\n",
            "Epoch 5/25\n",
            "19/19 [==============================] - 7s 370ms/step - loss: 1.2256 - accuracy: 0.5687 - val_loss: 1.9933 - val_accuracy: 0.3671\n",
            "Epoch 6/25\n",
            "19/19 [==============================] - 8s 399ms/step - loss: 0.9089 - accuracy: 0.6871 - val_loss: 2.1604 - val_accuracy: 0.3924\n",
            "Epoch 7/25\n",
            "19/19 [==============================] - 7s 392ms/step - loss: 0.5885 - accuracy: 0.8214 - val_loss: 2.5992 - val_accuracy: 0.3797\n",
            "Epoch 8/25\n",
            "19/19 [==============================] - 7s 394ms/step - loss: 0.3866 - accuracy: 0.8763 - val_loss: 2.8035 - val_accuracy: 0.3629\n",
            "Epoch 9/25\n",
            "19/19 [==============================] - 7s 391ms/step - loss: 0.3187 - accuracy: 0.9038 - val_loss: 3.0996 - val_accuracy: 0.3165\n",
            "Epoch 10/25\n",
            "19/19 [==============================] - 7s 396ms/step - loss: 0.2279 - accuracy: 0.9323 - val_loss: 3.7000 - val_accuracy: 0.3460\n",
            "Epoch 11/25\n",
            "19/19 [==============================] - 8s 396ms/step - loss: 0.1437 - accuracy: 0.9598 - val_loss: 4.1347 - val_accuracy: 0.3502\n",
            "Epoch 12/25\n",
            "19/19 [==============================] - 9s 500ms/step - loss: 0.1689 - accuracy: 0.9630 - val_loss: 3.8090 - val_accuracy: 0.3840\n",
            "Epoch 13/25\n",
            "19/19 [==============================] - 11s 555ms/step - loss: 0.0862 - accuracy: 0.9767 - val_loss: 4.3412 - val_accuracy: 0.3544\n",
            "Epoch 14/25\n",
            "19/19 [==============================] - 11s 556ms/step - loss: 0.0619 - accuracy: 0.9873 - val_loss: 4.6023 - val_accuracy: 0.3586\n",
            "Epoch 15/25\n",
            "19/19 [==============================] - 10s 544ms/step - loss: 0.0225 - accuracy: 0.9958 - val_loss: 5.2117 - val_accuracy: 0.3333\n",
            "Epoch 16/25\n",
            "19/19 [==============================] - 11s 578ms/step - loss: 0.0167 - accuracy: 0.9958 - val_loss: 5.6906 - val_accuracy: 0.3502\n",
            "Epoch 17/25\n",
            "19/19 [==============================] - 9s 501ms/step - loss: 0.0258 - accuracy: 0.9937 - val_loss: 5.9624 - val_accuracy: 0.3122\n",
            "Epoch 18/25\n",
            "19/19 [==============================] - 10s 527ms/step - loss: 0.0186 - accuracy: 0.9958 - val_loss: 5.8431 - val_accuracy: 0.3249\n",
            "Epoch 19/25\n",
            "19/19 [==============================] - 9s 450ms/step - loss: 0.0243 - accuracy: 0.9958 - val_loss: 4.8850 - val_accuracy: 0.3629\n",
            "Epoch 20/25\n",
            "19/19 [==============================] - 9s 495ms/step - loss: 0.0065 - accuracy: 0.9989 - val_loss: 6.6411 - val_accuracy: 0.3418\n",
            "Epoch 21/25\n",
            "19/19 [==============================] - 10s 522ms/step - loss: 0.0405 - accuracy: 0.9863 - val_loss: 5.5745 - val_accuracy: 0.3291\n",
            "Epoch 22/25\n",
            "19/19 [==============================] - 10s 511ms/step - loss: 0.0393 - accuracy: 0.9905 - val_loss: 5.9923 - val_accuracy: 0.3418\n",
            "Epoch 23/25\n",
            "19/19 [==============================] - 8s 413ms/step - loss: 0.0638 - accuracy: 0.9778 - val_loss: 6.1711 - val_accuracy: 0.3291\n",
            "Epoch 24/25\n",
            "19/19 [==============================] - 9s 497ms/step - loss: 0.0705 - accuracy: 0.9757 - val_loss: 5.9276 - val_accuracy: 0.3249\n",
            "Epoch 25/25\n",
            "19/19 [==============================] - 10s 518ms/step - loss: 0.1039 - accuracy: 0.9683 - val_loss: 5.9059 - val_accuracy: 0.3502\n",
            "scoring...\n",
            "Test loss: 6.091816425323486 / Test accuracy: 0.3206896483898163\n"
          ]
        },
        {
          "data": {
            "image/png": "[encoded data removed]",
            "text/plain": [
              "<Figure size 432x288 with 1 Axes>"
            ]
          },
          "metadata": {
            "needs_background": "light"
          },
          "output_type": "display_data"
        },
        {
          "data": {
            "image/png": "[encoded data removed]",
            "text/plain": [
              "<Figure size 432x288 with 1 Axes>"
            ]
          },
          "metadata": {
            "needs_background": "light"
          },
          "output_type": "display_data"
        }
      ],
      "source": [
        "# Model configuration\n",
        "batch_size = 50\n",
        "img_width, img_height, img_num_channels = 120, 120, 3\n",
        "input_shape = (img_width, img_height, img_num_channels)\n",
        "loss_function = sparse_categorical_crossentropy\n",
        "no_classes = 100\n",
        "no_epochs = 25\n",
        "optimizer = Adam()\n",
        "validation_split = 0.2\n",
        "verbosity = 1\n",
        "\n",
        "\n",
        "print(\"creating model...\")\n",
        "# Create the model\n",
        "model = Sequential()\n",
        "model.add(Conv2D(32, kernel_size=(3, 3), activation='relu', input_shape=input_shape))\n",
        "model.add(MaxPooling2D(pool_size=(2, 2)))\n",
        "model.add(Conv2D(64, kernel_size=(3, 3), activation='relu'))\n",
        "model.add(MaxPooling2D(pool_size=(2, 2)))\n",
        "model.add(Conv2D(128, kernel_size=(3, 3), activation='relu'))\n",
        "model.add(MaxPooling2D(pool_size=(2, 2)))\n",
        "model.add(Flatten())\n",
        "model.add(Dense(512, activation='relu'))\n",
        "model.add(Dense(512, activation='relu'))\n",
        "model.add(Dense(256, activation='relu'))\n",
        "model.add(Dense(128, activation='relu'))\n",
        "model.add(Dense(no_classes, activation='softmax'))\n",
        "\n",
        "print(\"compiling model...\")\n",
        "# Compile the model\n",
        "model.compile(loss=loss_function,\n",
        "              optimizer=optimizer,\n",
        "              metrics=['accuracy'])\n",
        "\n",
        "print(\"fitting model...\")\n",
        "# Fit data to model\n",
        "history = model.fit(input_train, target_train,\n",
        "            batch_size=batch_size,\n",
        "            epochs=no_epochs,\n",
        "            verbose=verbosity,\n",
        "            validation_split=validation_split)\n",
        "\n",
        "print(\"scoring...\")\n",
        "# Generate generalization metrics\n",
        "score = model.evaluate(input_test, target_test, verbose=0)\n",
        "print(f'Test loss: {score[0]} / Test accuracy: {score[1]}')\n",
        "\n",
        "# Visualize history\n",
        "# Plot history: Loss\n",
        "plt.plot(history.history['val_loss'])\n",
        "plt.title('Validation loss history')\n",
        "plt.ylabel('Loss value')\n",
        "plt.xlabel('No. epoch')\n",
        "plt.show()\n",
        "\n",
        "# Plot history: Accuracy\n",
        "plt.plot(history.history['val_accuracy'])\n",
        "plt.title('Validation accuracy history')\n",
        "plt.ylabel('Accuracy value (%)')\n",
        "plt.xlabel('No. epoch')\n",
        "plt.show()"
      ]
    },
    {
      "cell_type": "code",
      "execution_count": null,
      "metadata": {
        "id": "n4DrLcbZhxCB",
        "outputId": "d61598cd-819e-4a7d-8c2d-c0e9a4fccf6f"
      },
      "outputs": [
        {
          "name": "stderr",
          "output_type": "stream",
          "text": [
            "Clipping input data to the valid range for imshow with RGB data ([0..1] for floats or [0..255] for integers).\n"
          ]
        },
        {
          "name": "stdout",
          "output_type": "stream",
          "text": [
            "<class 'tensorflow.python.framework.ops.EagerTensor'>\n",
            "<class 'numpy.ndarray'>\n",
            "A Bicycle was predicted to be a 0\n"
          ]
        },
        {
          "data": {
            "text/plain": [
              "<matplotlib.image.AxesImage at 0x2018bc40220>"
            ]
          },
          "execution_count": 137,
          "metadata": {},
          "output_type": "execute_result"
        },
        {
          "data": {
            "image/png": "[encoded data removed]",
            "text/plain": [
              "<Figure size 432x288 with 1 Axes>"
            ]
          },
          "metadata": {
            "needs_background": "light"
          },
          "output_type": "display_data"
        }
      ],
      "source": [
        "file = input_test[3]\n",
        "print(type(file))\n",
        "n = file.numpy()\n",
        "print(type(n))\n",
        "l = n.tolist()\n",
        "\n",
        "test_image = n.reshape(-1, 120, 120, 3)\n",
        "predicted_label = model.predict(test_image).argmax()\n",
        "print(\"A Bicycle was predicted to be a\", predicted_label)\n",
        "\n",
        "plt.imshow(file)\n",
        "# mapping = {\n",
        "#     \"Bicycle\": 0,\n",
        "#     \"Bridge\": 1,\n",
        "#     \"Bus\": 2,\n",
        "#     \"Car\": 3,\n",
        "#     \"Crosswalk\": 4,\n",
        "#     \"Hydrant\": 5,\n",
        "#     \"Other\": 6,\n",
        "#     \"Palm\": 7,\n",
        "#     \"Traffic Light\": 8\n",
        "# }"
      ]
    },
    {
      "cell_type": "code",
      "execution_count": null,
      "metadata": {
        "id": "Vsx1EmuC2KUe",
        "pycharm": {
          "is_executing": true
        },
        "outputId": "b762ae66-677a-41c3-d107-44d759a42a62"
      },
      "outputs": [
        {
          "ename": "FileNotFoundError",
          "evalue": "[Errno 2] No such file or directory: 'handwriting-recognitionocr/CSV/written_name_test.csv'",
          "output_type": "error",
          "traceback": [
            "\u001b[1;31m---------------------------------------------------------------------------\u001b[0m",
            "\u001b[1;31mFileNotFoundError\u001b[0m                         Traceback (most recent call last)",
            "\u001b[1;32m~\\AppData\\Local\\Temp/ipykernel_5668/1906401169.py\u001b[0m in \u001b[0;36m<module>\u001b[1;34m\u001b[0m\n\u001b[0;32m     11\u001b[0m \u001b[1;33m\u001b[0m\u001b[0m\n\u001b[0;32m     12\u001b[0m \u001b[1;31m# load y_test data\u001b[0m\u001b[1;33m\u001b[0m\u001b[1;33m\u001b[0m\u001b[1;33m\u001b[0m\u001b[0m\n\u001b[1;32m---> 13\u001b[1;33m \u001b[1;32mwith\u001b[0m \u001b[0mopen\u001b[0m\u001b[1;33m(\u001b[0m\u001b[1;34m'handwriting-recognitionocr/CSV/written_name_test.csv'\u001b[0m\u001b[1;33m,\u001b[0m \u001b[0mmode\u001b[0m \u001b[1;33m=\u001b[0m\u001b[1;34m'r'\u001b[0m\u001b[1;33m)\u001b[0m\u001b[1;32mas\u001b[0m \u001b[0mfile\u001b[0m\u001b[1;33m:\u001b[0m\u001b[1;33m\u001b[0m\u001b[1;33m\u001b[0m\u001b[0m\n\u001b[0m\u001b[0;32m     14\u001b[0m   \u001b[0mtestFile\u001b[0m \u001b[1;33m=\u001b[0m \u001b[0mcsv\u001b[0m\u001b[1;33m.\u001b[0m\u001b[0mreader\u001b[0m\u001b[1;33m(\u001b[0m\u001b[0mfile\u001b[0m\u001b[1;33m)\u001b[0m\u001b[1;33m\u001b[0m\u001b[1;33m\u001b[0m\u001b[0m\n\u001b[0;32m     15\u001b[0m   \u001b[1;32mfor\u001b[0m \u001b[0mline\u001b[0m \u001b[1;32min\u001b[0m \u001b[0mtestFile\u001b[0m\u001b[1;33m:\u001b[0m\u001b[1;33m\u001b[0m\u001b[1;33m\u001b[0m\u001b[0m\n",
            "\u001b[1;31mFileNotFoundError\u001b[0m: [Errno 2] No such file or directory: 'handwriting-recognitionocr/CSV/written_name_test.csv'"
          ]
        }
      ],
      "source": [
        "# Attempt 1: OCR Handwriting dataset\n",
        "\n",
        "import csv\n",
        "import cv2\n",
        "\n",
        "y_train = []\n",
        "y_test = []\n",
        "X_train = []\n",
        "X_test = []\n",
        "\n",
        "\n",
        "# load y_test data\n",
        "with open('handwriting-recognitionocr/CSV/written_name_test.csv', mode ='r')as file:\n",
        "  testFile = csv.reader(file)\n",
        "  for line in testFile:\n",
        "    y_test.append(line[1])\n",
        "\n",
        "# load y_train data\n",
        "with open('handwriting-recognitionocr/CSV/written_name_train.csv', mode ='r')as file:\n",
        "  trainFile = csv.reader(file)\n",
        "  for line in trainFile:\n",
        "    y_train.append(line[1])\n",
        "\n",
        "    # limit ourselves to the first 10,000 images so our program doesn't crash\n",
        "    if(len(y_train) > 10000): break\n",
        "\n",
        "# load test images into X_test\n",
        "for i in range(1, len(y_test)):\n",
        "  if i < 10:\n",
        "    img = cv2.imread(\"handwriting-recognitionocr/test_v2/test/TEST_000\" + str(i) + \".jpg\")\n",
        "    X_test.append(img)\n",
        "  elif i < 100:\n",
        "    img = cv2.imread(\"handwriting-recognitionocr/test_v2/test/TEST_00\" + str(i) + \".jpg\")\n",
        "    X_test.append(img)\n",
        "  elif i < 1000:\n",
        "    img = cv2.imread(\"handwriting-recognitionocr/test_v2/test/TEST_0\" + str(i) + \".jpg\")\n",
        "    X_test.append(img)    \n",
        "  else:\n",
        "    img = cv2.imread(\"handwriting-recognitionocr/test_v2/test/TEST_\" + str(i) + \".jpg\")\n",
        "    X_test.append(img)\n",
        "\n",
        "# load training images into X_train\n",
        "for i in range(1, 10001):\n",
        "  if i < 10:\n",
        "    img = cv2.imread(\"handwriting-recognitionocr/train_v2/train/TRAIN_0000\" + str(i) + \".jpg\")\n",
        "    X_train.append(img)\n",
        "  elif i < 100:\n",
        "    img = cv2.imread(\"handwriting-recognitionocr/train_v2/train/TRAIN_000\" + str(i) + \".jpg\")\n",
        "    X_train.append(img)\n",
        "  elif i < 1000:\n",
        "    img = cv2.imread(\"handwriting-recognitionocr/train_v2/train/TRAIN_00\" + str(i) + \".jpg\")\n",
        "    X_train.append(img)\n",
        "  elif i < 10000:\n",
        "    img = cv2.imread(\"handwriting-recognitionocr/train_v2/train/TRAIN_0\" + str(i) + \".jpg\")\n",
        "    X_train.append(img)\n",
        "  else:\n",
        "    img = cv2.imread(\"handwriting-recognitionocr/train_v2/train/TRAIN_\" + str(i) + \".jpg\")\n",
        "    X_train.append(img)\n",
        "\n",
        "\n",
        "assert(len(X_test) == len(y_test) - 1)\n",
        "assert(len(X_train) == len(y_train) - 1)"
      ]
    },
    {
      "cell_type": "code",
      "execution_count": null,
      "metadata": {
        "id": "-9gvTpxM2KZK",
        "pycharm": {
          "is_executing": true
        }
      },
      "outputs": [],
      "source": [
        "simple_layers = [\n",
        "      Flatten(),\n",
        "      Dense(150, activation=\"relu\"),\n",
        "      Dropout(.02),\n",
        "      Dense(250, activation=\"relu\"),\n",
        "      Dropout(.05),\n",
        "      Dense(10, activation=\"softmax\")\n",
        "    ]\n",
        "\n",
        "simple_model = Sequential(layers=simple_layers)\n",
        "\n",
        "simple_model.compile(optimizer=\"adam\", loss='sparse_categorical_crossentropy', metrics=['accuracy'])\n",
        "simple_model.fit(X_train, y_train, epochs=5)\n",
        "simple_model.summary()"
      ]
    },
    {
      "cell_type": "code",
      "execution_count": null,
      "metadata": {
        "id": "UfdbJDps2Kb0",
        "pycharm": {
          "is_executing": true
        }
      },
      "outputs": [],
      "source": [
        ""
      ]
    },
    {
      "cell_type": "code",
      "execution_count": null,
      "metadata": {
        "id": "tpNvV0jP2Kd_",
        "pycharm": {
          "is_executing": true
        }
      },
      "outputs": [],
      "source": [
        ""
      ]
    }
  ],
  "metadata": {
    "colab": {
      "collapsed_sections": [],
      "name": "Final_Project_good.ipynb",
      "provenance": []
    },
    "kernelspec": {
      "display_name": "Python 3 (ipykernel)",
      "language": "python",
      "name": "python3"
    },
    "language_info": {
      "codemirror_mode": {
        "name": "ipython",
        "version": 3
      },
      "file_extension": ".py",
      "mimetype": "text/x-python",
      "name": "python",
      "nbconvert_exporter": "python",
      "pygments_lexer": "ipython3",
      "version": "3.9.5"
    }
  },
  "nbformat": 4,
  "nbformat_minor": 0
}